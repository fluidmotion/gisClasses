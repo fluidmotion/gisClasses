{
 "cells": [
  {
   "cell_type": "markdown",
   "metadata": {},
   "source": [
    "### Projections and Coordinates:"
   ]
  },
  {
   "cell_type": "markdown",
   "metadata": {},
   "source": [
    "#### Projections\n",
    "* Required to show a 2D representation of a 3D object\n",
    "\n",
    "for example - try placing a sheet of paper on a globe and trace a country."
   ]
  },
  {
   "cell_type": "markdown",
   "metadata": {},
   "source": [
    "<img src=\"imgs/latlong.png\" alt=\"https://en.wikipedia.org/wiki/File:Latitude_and_Longitude_of_the_Earth.svg\">"
   ]
  },
  {
   "cell_type": "markdown",
   "metadata": {},
   "source": [
    "`Map projections are sets of mathematical models which transform spherical coordinates (such as latitude and longitude) to planar coordinates (x and y). In the process, data which actually lie on a sphere are projected onto a flat plane or a surface. That surface can be converted to a planar section without stretching.` (https://courses.washington.edu/gis250/lessons/projection/)\n",
    "\n",
    "Many types -\n",
    "* conical\n",
    "* cylindrical\n",
    "* planar\n",
    "* ....\n",
    "\n",
    "see way more (https://en.wikipedia.org/wiki/List_of_map_projections)"
   ]
  },
  {
   "cell_type": "markdown",
   "metadata": {},
   "source": [
    "### Why so many?\n",
    "* Conformal: Preserves angles locally, implying that locally shapes are not distorted.\n",
    "* Equal Area: Areas are conserved.\n",
    "* Compromise: Neither conformal nor equal-area, but a balance intended to reduce overall distortion.\n",
    "* Equidistant: All distances from one (or two) points are correct. Other equidistant properties are mentioned in the notes.\n",
    "* Gnomonic: All great circles are straight lines.\n"
   ]
  },
  {
   "cell_type": "markdown",
   "metadata": {},
   "source": [
    "#### Common (for me at least)\n",
    "- UTM (Universal Transverse Mercator) - Arkansas is zone 15\n",
    "<img src=\"imgs/utmZones.jpg\" alt=\"https://en.wikipedia.org/wiki/Universal_Transverse_Mercator_coordinate_system#/media/File:Utm-zones.jpg\" width=\"500\">\n",
    "- Albers\n",
    "<img src=\"imgs/albers.PNG\" alt=\"https://en.wikipedia.org/wiki/Albers_projection\">\n",
    "- State Plane"
   ]
  },
  {
   "cell_type": "markdown",
   "metadata": {},
   "source": [
    "Coordinate systems - \n",
    "After deciding how to 'unroll' the globe (assign a projection), Lat/long coordinates can no longer be used to locate features (they use angles, not distances). You need a new *planar* coordinate system. Therefore, a Cartesian coordinate system is used, where the origin (0, 0) is toward the lower left of the plane. The true origin point (0, 0) may or may not be in the within your map boundaries.\n",
    "\n",
    "Coordinates of all your features are measured from the origin. However, false eastings and false northings are often used, which offset the origin to a different place on the coordinate plane. This is done to:\n",
    "\n",
    "- Minimize the potential of negative coordinate values (to make calculations of distance and area easier).\n",
    "- Lower the absolute value of the coordinates (to make the values easier to read, calculate, etc.).\n"
   ]
  },
  {
   "cell_type": "markdown",
   "metadata": {},
   "source": [
    "#### Projection gotchas\n",
    "\n",
    "There is a **big** difference in *projecting* a dataset and *defining* a projection to a dataset. In projecting a dataset, each coordinate is recalculated to the new output coordinate values. In defining a projection, the coordinate values **do not change**. So, if the incorrect projection is defined for a dataset, it will not plot at the correct location."
   ]
  },
  {
   "cell_type": "markdown",
   "metadata": {},
   "source": [
    "#### Datums\n",
    "\n",
    "Datums are sets of parameters and ground control points defining local coordinate systems. Because the earth is not a perfect sphere, but is somewhat \"egg-shaped,\" the shape is approximated (with spheroids and ellipsoids) to represent actual shape of the earth. These approximations do match well everywhere, therefore, different datums may be used in different locations on the planet.\n",
    "\n",
    "<img src=\"imgs/datum.gif\">\n",
    "(image from ESRI)\n",
    "\n",
    "Above, the earth outline is represented by the thick black line. An earth-centered coordinate system (WGS84, in blue) provides an overall mean datum for all places on the earth. However, for specific locations, WGS84 may include unwanted error. So, other local datums have be used instead. The local North American Datum of 1927 (NAD27, in dashed red line) more closely fits the earth's surface in the upper-left quadrant of the earth's cross-section. NAD27 only fits this quadrant, so to use it in another part of the earth will result in errors. For mapping North America, in order to obtain the most accurate locations and measurements, NAD27 or NAD83/91 are used."
   ]
  },
  {
   "cell_type": "markdown",
   "metadata": {},
   "source": [
    "https://courses.washington.edu/gis250/lessons/projection/\n",
    "\n",
    "http://resources.esri.com/help/9.3/arcgisengine/dotnet/89b720a5-7339-44b0-8b58-0f5bf2843393.htm"
   ]
  }
 ],
 "metadata": {
  "kernelspec": {
   "display_name": "Python 2",
   "language": "python",
   "name": "python2"
  },
  "language_info": {
   "codemirror_mode": {
    "name": "ipython",
    "version": 2
   },
   "file_extension": ".py",
   "mimetype": "text/x-python",
   "name": "python",
   "nbconvert_exporter": "python",
   "pygments_lexer": "ipython2",
   "version": "2.7.10"
  }
 },
 "nbformat": 4,
 "nbformat_minor": 0
}
