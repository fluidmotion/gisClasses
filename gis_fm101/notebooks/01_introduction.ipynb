{
 "cells": [
  {
   "cell_type": "markdown",
   "metadata": {},
   "source": [
    "# Before we get rolling - do you have QGIS?\n",
    "### http://www.qgis.org\n",
    "(we'll be using this soon)"
   ]
  },
  {
   "cell_type": "markdown",
   "metadata": {},
   "source": [
    "### What is GIS?"
   ]
  },
  {
   "cell_type": "markdown",
   "metadata": {},
   "source": [
    "A geographic information system (GIS) is a computer system for capturing, storing, checking, and displaying data related to positions on Earth’s surface. GIS can show many different kinds of data on one map. This enables people to more easily see, analyze, and understand patterns and relationships.\n"
   ]
  },
  {
   "cell_type": "markdown",
   "metadata": {
    "collapsed": true
   },
   "source": [
    "<img src=\"imgs/32282.jpg\" width=\"450\" alt=\"Illustration courtesy U.S. Government Accountability Office\">"
   ]
  },
  {
   "cell_type": "markdown",
   "metadata": {},
   "source": [
    "### GUIs\n",
    "\"Graphic User Interface\"\n",
    "\n",
    "Multiple GUIs for GIS - both proprietary and open-source\n",
    "#### Proprietary\n",
    "- ESRI ArcGIS http://www.arcgis.com\n",
    "- ERDAS IMAGINE http://www.hexagongeospatial.com\n",
    "\n",
    "#### Open Source\n",
    "- QGIS http://www.qgis.org\n",
    "- GRASS http://grass.osgeo.org\n",
    "- SAGA GIS http://www.saga-gis.org"
   ]
  },
  {
   "cell_type": "markdown",
   "metadata": {},
   "source": [
    "<img src=\"imgs/qgisIntro.PNG\" width=\"550\">QGIS"
   ]
  },
  {
   "cell_type": "markdown",
   "metadata": {},
   "source": [
    "<img src=\"imgs/arcmapIntro.png\" width=\"550\">ArcGIS"
   ]
  },
  {
   "cell_type": "markdown",
   "metadata": {},
   "source": [
    "### Feature types\n",
    "#### Vectors\n",
    "- Points (x, y, [z])\n",
    "- Lines (connections between multiple points, or vertices)\n",
    "- Polygons (closed lines - start and end at same point)\n",
    "\n",
    "#### Rasters\n",
    "- Grid based (array of equally sized cells (in rows and columns))\n",
    "<img src=\"imgs/rickConst.JPG\" width=\"400\">\n",
    "\n",
    "<img src=\"imgs/rasterZoom.PNG\" width=\"400\">\n",
    "\n",
    "<img src=\"imgs/rasterZoom2.PNG\" width=\"400\">"
   ]
  },
  {
   "cell_type": "markdown",
   "metadata": {
    "collapsed": true
   },
   "source": [
    "### Storage types\n",
    "(file type)\n",
    " - Shapefiles\n",
    " - GeoJSON\n",
    " - Geodatabase (personal, file-based, enterprise)\n",
    " - DXF\n",
    " - KML\n",
    " - geotif, jpg, netCDF..\n",
    " - many, many more"
   ]
  },
  {
   "cell_type": "markdown",
   "metadata": {},
   "source": [
    "### Attributes\n",
    "- information about a feature\n",
    "- normally in a table linked to the features\n",
    "- ex. a county boundary polygon may have a description, area, perimeter, and many others..."
   ]
  },
  {
   "cell_type": "markdown",
   "metadata": {
    "collapsed": true
   },
   "source": [
    "<img src=\"imgs/atts.png\" width=\"500\">"
   ]
  },
  {
   "cell_type": "markdown",
   "metadata": {
    "collapsed": true
   },
   "source": [
    "Where do you get data - depends on what you want to do.."
   ]
  }
 ],
 "metadata": {
  "kernelspec": {
   "display_name": "Python 2",
   "language": "python",
   "name": "python2"
  },
  "language_info": {
   "codemirror_mode": {
    "name": "ipython",
    "version": 2
   },
   "file_extension": ".py",
   "mimetype": "text/x-python",
   "name": "python",
   "nbconvert_exporter": "python",
   "pygments_lexer": "ipython2",
   "version": "2.7.10"
  }
 },
 "nbformat": 4,
 "nbformat_minor": 0
}
