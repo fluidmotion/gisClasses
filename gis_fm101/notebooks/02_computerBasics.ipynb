{
 "cells": [
  {
   "cell_type": "markdown",
   "metadata": {},
   "source": [
    "### Hardware vs software"
   ]
  },
  {
   "cell_type": "markdown",
   "metadata": {},
   "source": [
    "#### Hardware - the tangible stuff\n",
    "* Case (laptop, desktop, phone)\n",
    "* Data storage\n",
    "    - SSD (solid state drive) fast, no moving parts\n",
    "    - HDD (hard-drive) spinning disc, slower, cheaper\n",
    "* RAM (random access memory) fast, deleted on shutdown (and sometimes before)\n",
    "* CPU (central processing unit) - the 'brain' - most calculations"
   ]
  },
  {
   "cell_type": "markdown",
   "metadata": {},
   "source": [
    "#### Software - the zeros and ones\n",
    "\n",
    "* Set of instructions to perform a task (like a roadmap)\n",
    "\n",
    "- Operating systems, device drivers, utilities, applications..."
   ]
  },
  {
   "cell_type": "markdown",
   "metadata": {},
   "source": [
    "### Operating systems\n",
    "the middleman between the hardware and the software\n",
    "\n",
    "<a href=\"https://en.wikipedia.org/wiki/File:Operating_system_placement.svg\"><img src=\"imgs/osChain.png\" height=\"500\">(click image for attribution)</a>\n",
    "\n",
    "- Windows \n",
    "\n",
    "- OS-X (mac)\n",
    "\n",
    "- Linux (droid phones)\n",
    "\n",
    "- Unix\n",
    "\n",
    "many more and many variants of all the above."
   ]
  },
  {
   "cell_type": "markdown",
   "metadata": {},
   "source": [
    "### A word on file structure/organization\n",
    "\n",
    "- It can be much simpler to find data or projects you have if you start with some type of file system logic. you may have a master directory with your username. Within that, you might have directories for downloads, scripts, notes, generic GIS data, and projects. Within a project directory - you may again have multiple directories of specific gis data, documentation, project-specific scripts, etc. Whatever structure you choose, give it some thought - almost anything is better than a single directory full of thousands of files from different topics all mixed together."
   ]
  },
  {
   "cell_type": "markdown",
   "metadata": {},
   "source": [
    "a bit dated, but perhaps helpful - https://en.wikibooks.org/wiki/Computers_for_Beginners/The_Basics"
   ]
  }
 ],
 "metadata": {
  "kernelspec": {
   "display_name": "Python 2",
   "language": "python",
   "name": "python2"
  },
  "language_info": {
   "codemirror_mode": {
    "name": "ipython",
    "version": 2
   },
   "file_extension": ".py",
   "mimetype": "text/x-python",
   "name": "python",
   "nbconvert_exporter": "python",
   "pygments_lexer": "ipython2",
   "version": "2.7.10"
  }
 },
 "nbformat": 4,
 "nbformat_minor": 0
}
