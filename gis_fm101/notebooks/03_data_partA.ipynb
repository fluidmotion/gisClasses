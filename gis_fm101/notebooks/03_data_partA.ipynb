{
 "cells": [
  {
   "cell_type": "markdown",
   "metadata": {},
   "source": [
    "### Data: finding data"
   ]
  },
  {
   "cell_type": "markdown",
   "metadata": {
    "collapsed": true
   },
   "source": [
    "#### Downloadable:\n",
    "GIS data are available from many sources - most states have a repository to store data. For Arkansas, the primary source is http://gis.arkansas.gov/.\n"
   ]
  },
  {
   "cell_type": "markdown",
   "metadata": {},
   "source": [
    "#### Web services:\n",
    "Standard protocol to serve georeferenced images or features over the web.\n",
    "These often allow you to view other data within your map, without having the data originally stored locally on your computer. One example of this is arial photos as a background in a GIS map.\n",
    "\n",
    "<img src=\"imgs/qgisIntro.PNG\" width=\"600\">\n",
    "\n",
    "(to view this in QGIS - you need to add a plugin. after opening QGIS, go to plugins->manage and install plugins. then search for 'Open Layers Plugin' and hit 'install'.\n",
    "The plugin options should now show up under 'Web' where you can add background maps from OpenStreetMap, Google, Bing, etc. - see http://docs.qgis.org/1.8/en/docs/user_manual/plugins/plugins.html)"
   ]
  },
  {
   "cell_type": "markdown",
   "metadata": {},
   "source": [
    "#### Creating your own:\n",
    "\n",
    "- Existing maps (paper or digital)\n",
    "- Existing coordinates\n",
    "- GPS"
   ]
  },
  {
   "cell_type": "markdown",
   "metadata": {},
   "source": [
    "##### Existing maps\n",
    "potential steps to creating data from an existing map in a PDF\n",
    "* scan/screen shots\n",
    "* georeference\n",
    "* create new layer to store new data\n",
    "* digitize\n",
    "* save/archive"
   ]
  },
  {
   "cell_type": "markdown",
   "metadata": {
    "collapsed": true
   },
   "source": [
    "#### Back to top - let's go back to geostor and grab some data"
   ]
  }
 ],
 "metadata": {
  "kernelspec": {
   "display_name": "Python 2",
   "language": "python",
   "name": "python2"
  },
  "language_info": {
   "codemirror_mode": {
    "name": "ipython",
    "version": 2
   },
   "file_extension": ".py",
   "mimetype": "text/x-python",
   "name": "python",
   "nbconvert_exporter": "python",
   "pygments_lexer": "ipython2",
   "version": "2.7.10"
  }
 },
 "nbformat": 4,
 "nbformat_minor": 0
}
