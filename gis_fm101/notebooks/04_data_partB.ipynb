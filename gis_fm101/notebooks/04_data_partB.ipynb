{
 "cells": [
  {
   "cell_type": "markdown",
   "metadata": {},
   "source": [
    "### Data: Creating data"
   ]
  },
  {
   "cell_type": "markdown",
   "metadata": {
    "collapsed": true
   },
   "source": [
    "##### Potential steps to creating data from an area of interest\n",
    "\n",
    "###### Find your place\n",
    "\n",
    "1) Within QGIS, load county boundaries\n",
    "\n",
    "<img src=\"imgs/qgisCounties.png\" width=\"300\" align=\"left\">\n"
   ]
  },
  {
   "cell_type": "markdown",
   "metadata": {},
   "source": [
    "2) Zoom to regional area of interest\n",
    "\n",
    "<img src=\"imgs/qgisRegion.png\", width=\"300\" align=\"left\">"
   ]
  },
  {
   "cell_type": "markdown",
   "metadata": {},
   "source": [
    "3) Zoom to specific area of interest\n",
    "(Note: you may want to add roads or areal photos from a map service)\n",
    "\n",
    "<img src=\"imgs/qgisMenu.png\" width=\"300\" align=\"left\">"
   ]
  },
  {
   "cell_type": "markdown",
   "metadata": {},
   "source": [
    "4) Create new empty shapefile (to store new data)\n",
    "\n",
    "<img src=\"imgs/newShape.png\" width=\"300\" align=\"left\">"
   ]
  },
  {
   "cell_type": "markdown",
   "metadata": {},
   "source": [
    "<img src=\"imgs/newShapeDialog.png\" width=\"300\" align=\"left\">"
   ]
  },
  {
   "cell_type": "markdown",
   "metadata": {},
   "source": [
    "5) Digitize (point, line, or polygon)\n",
    "\n",
    "<img src=\"imgs/digitize.png\" width=\"300\" align=\"left\">"
   ]
  },
  {
   "cell_type": "markdown",
   "metadata": {},
   "source": [
    "6) Attribute and save\n",
    "\n",
    "<img src=\"imgs/attr.png\" width=\"300\" align=\"left\">"
   ]
  },
  {
   "cell_type": "markdown",
   "metadata": {},
   "source": [
    "\n",
    "<img src=\"imgs/attrTable.png\" width=\"300\" align=\"left\">"
   ]
  }
 ],
 "metadata": {
  "kernelspec": {
   "display_name": "Python 2",
   "language": "python",
   "name": "python2"
  },
  "language_info": {
   "codemirror_mode": {
    "name": "ipython",
    "version": 2
   },
   "file_extension": ".py",
   "mimetype": "text/x-python",
   "name": "python",
   "nbconvert_exporter": "python",
   "pygments_lexer": "ipython2",
   "version": "2.7.10"
  }
 },
 "nbformat": 4,
 "nbformat_minor": 0
}
